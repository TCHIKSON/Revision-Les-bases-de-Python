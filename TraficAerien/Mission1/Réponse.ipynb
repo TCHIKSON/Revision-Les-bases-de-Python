{
 "cells": [
  {
   "cell_type": "markdown",
   "id": "449996ea",
   "metadata": {},
   "source": [
    "# Import des dataFramees"
   ]
  },
  {
   "cell_type": "code",
   "execution_count": 4,
   "id": "d187b2a2",
   "metadata": {},
   "outputs": [
    {
     "name": "stdout",
     "output_type": "stream",
     "text": [
      "Collecting PyPDF2\n",
      "  Using cached pypdf2-3.0.1-py3-none-any.whl.metadata (6.8 kB)\n",
      "Using cached pypdf2-3.0.1-py3-none-any.whl (232 kB)\n",
      "Installing collected packages: PyPDF2\n",
      "Successfully installed PyPDF2-3.0.1\n",
      "Note: you may need to restart the kernel to use updated packages.\n"
     ]
    }
   ],
   "source": [
    "pip install PyPDF2"
   ]
  },
  {
   "cell_type": "code",
   "execution_count": 77,
   "id": "60f68c76",
   "metadata": {},
   "outputs": [],
   "source": [
    "from Extract import *\n",
    "\n",
    "flights_df = extract_csv(\"./data/flights.csv\")\n",
    "airlines_df = extract_json(\"./data/airlines.json\")\n",
    "airports_df = extract_excel(\"./data/airports.xlsx\")\n",
    "weather_df = extract_pdf(\"./data/weather.pdf\")\n",
    "planes_df = extract_html(\"./data/planes.html\")"
   ]
  },
  {
   "cell_type": "code",
   "execution_count": 9,
   "id": "4bba1c5d",
   "metadata": {},
   "outputs": [
    {
     "data": {
      "text/html": [
       "<div>\n",
       "<style scoped>\n",
       "    .dataframe tbody tr th:only-of-type {\n",
       "        vertical-align: middle;\n",
       "    }\n",
       "\n",
       "    .dataframe tbody tr th {\n",
       "        vertical-align: top;\n",
       "    }\n",
       "\n",
       "    .dataframe thead th {\n",
       "        text-align: right;\n",
       "    }\n",
       "</style>\n",
       "<table border=\"1\" class=\"dataframe\">\n",
       "  <thead>\n",
       "    <tr style=\"text-align: right;\">\n",
       "      <th></th>\n",
       "      <th>carrier</th>\n",
       "      <th>name</th>\n",
       "    </tr>\n",
       "  </thead>\n",
       "  <tbody>\n",
       "    <tr>\n",
       "      <th>0</th>\n",
       "      <td>9E</td>\n",
       "      <td>Endeavor Air Inc.</td>\n",
       "    </tr>\n",
       "    <tr>\n",
       "      <th>1</th>\n",
       "      <td>AA</td>\n",
       "      <td>American Airlines Inc.</td>\n",
       "    </tr>\n",
       "    <tr>\n",
       "      <th>2</th>\n",
       "      <td>AS</td>\n",
       "      <td>Alaska Airlines Inc.</td>\n",
       "    </tr>\n",
       "    <tr>\n",
       "      <th>3</th>\n",
       "      <td>B6</td>\n",
       "      <td>JetBlue Airways</td>\n",
       "    </tr>\n",
       "    <tr>\n",
       "      <th>4</th>\n",
       "      <td>DL</td>\n",
       "      <td>Delta Air Lines Inc.</td>\n",
       "    </tr>\n",
       "  </tbody>\n",
       "</table>\n",
       "</div>"
      ],
      "text/plain": [
       "  carrier                    name\n",
       "0      9E       Endeavor Air Inc.\n",
       "1      AA  American Airlines Inc.\n",
       "2      AS    Alaska Airlines Inc.\n",
       "3      B6         JetBlue Airways\n",
       "4      DL    Delta Air Lines Inc."
      ]
     },
     "execution_count": 9,
     "metadata": {},
     "output_type": "execute_result"
    }
   ],
   "source": [
    "airlines_df.head()"
   ]
  },
  {
   "cell_type": "code",
   "execution_count": 19,
   "id": "2b2d5e40",
   "metadata": {},
   "outputs": [
    {
     "data": {
      "text/html": [
       "<div>\n",
       "<style scoped>\n",
       "    .dataframe tbody tr th:only-of-type {\n",
       "        vertical-align: middle;\n",
       "    }\n",
       "\n",
       "    .dataframe tbody tr th {\n",
       "        vertical-align: top;\n",
       "    }\n",
       "\n",
       "    .dataframe thead th {\n",
       "        text-align: right;\n",
       "    }\n",
       "</style>\n",
       "<table border=\"1\" class=\"dataframe\">\n",
       "  <thead>\n",
       "    <tr style=\"text-align: right;\">\n",
       "      <th></th>\n",
       "      <th>faa</th>\n",
       "      <th>name</th>\n",
       "      <th>lat</th>\n",
       "      <th>lon</th>\n",
       "      <th>alt</th>\n",
       "      <th>tz</th>\n",
       "      <th>dst</th>\n",
       "      <th>tzone</th>\n",
       "    </tr>\n",
       "  </thead>\n",
       "  <tbody>\n",
       "    <tr>\n",
       "      <th>0</th>\n",
       "      <td>04G</td>\n",
       "      <td>Lansdowne Airport</td>\n",
       "      <td>41.130472</td>\n",
       "      <td>-80.619583</td>\n",
       "      <td>1044</td>\n",
       "      <td>-5</td>\n",
       "      <td>A</td>\n",
       "      <td>America/New_York</td>\n",
       "    </tr>\n",
       "    <tr>\n",
       "      <th>1</th>\n",
       "      <td>06A</td>\n",
       "      <td>Moton Field Municipal Airport</td>\n",
       "      <td>32.460572</td>\n",
       "      <td>-85.680028</td>\n",
       "      <td>264</td>\n",
       "      <td>-6</td>\n",
       "      <td>A</td>\n",
       "      <td>America/Chicago</td>\n",
       "    </tr>\n",
       "    <tr>\n",
       "      <th>2</th>\n",
       "      <td>06C</td>\n",
       "      <td>Schaumburg Regional</td>\n",
       "      <td>41.989341</td>\n",
       "      <td>-88.101243</td>\n",
       "      <td>801</td>\n",
       "      <td>-6</td>\n",
       "      <td>A</td>\n",
       "      <td>America/Chicago</td>\n",
       "    </tr>\n",
       "    <tr>\n",
       "      <th>3</th>\n",
       "      <td>06N</td>\n",
       "      <td>Randall Airport</td>\n",
       "      <td>41.431912</td>\n",
       "      <td>-74.391561</td>\n",
       "      <td>523</td>\n",
       "      <td>-5</td>\n",
       "      <td>A</td>\n",
       "      <td>America/New_York</td>\n",
       "    </tr>\n",
       "    <tr>\n",
       "      <th>4</th>\n",
       "      <td>09J</td>\n",
       "      <td>Jekyll Island Airport</td>\n",
       "      <td>31.074472</td>\n",
       "      <td>-81.427778</td>\n",
       "      <td>11</td>\n",
       "      <td>-5</td>\n",
       "      <td>A</td>\n",
       "      <td>America/New_York</td>\n",
       "    </tr>\n",
       "    <tr>\n",
       "      <th>...</th>\n",
       "      <td>...</td>\n",
       "      <td>...</td>\n",
       "      <td>...</td>\n",
       "      <td>...</td>\n",
       "      <td>...</td>\n",
       "      <td>...</td>\n",
       "      <td>...</td>\n",
       "      <td>...</td>\n",
       "    </tr>\n",
       "    <tr>\n",
       "      <th>1453</th>\n",
       "      <td>ZUN</td>\n",
       "      <td>Black Rock</td>\n",
       "      <td>35.083228</td>\n",
       "      <td>-108.791778</td>\n",
       "      <td>6454</td>\n",
       "      <td>-7</td>\n",
       "      <td>A</td>\n",
       "      <td>America/Denver</td>\n",
       "    </tr>\n",
       "    <tr>\n",
       "      <th>1454</th>\n",
       "      <td>ZVE</td>\n",
       "      <td>New Haven Rail Station</td>\n",
       "      <td>41.298669</td>\n",
       "      <td>-72.925992</td>\n",
       "      <td>7</td>\n",
       "      <td>-5</td>\n",
       "      <td>A</td>\n",
       "      <td>America/New_York</td>\n",
       "    </tr>\n",
       "    <tr>\n",
       "      <th>1455</th>\n",
       "      <td>ZWI</td>\n",
       "      <td>Wilmington Amtrak Station</td>\n",
       "      <td>39.736667</td>\n",
       "      <td>-75.551667</td>\n",
       "      <td>0</td>\n",
       "      <td>-5</td>\n",
       "      <td>A</td>\n",
       "      <td>America/New_York</td>\n",
       "    </tr>\n",
       "    <tr>\n",
       "      <th>1456</th>\n",
       "      <td>ZWU</td>\n",
       "      <td>Washington Union Station</td>\n",
       "      <td>38.897460</td>\n",
       "      <td>-77.006430</td>\n",
       "      <td>76</td>\n",
       "      <td>-5</td>\n",
       "      <td>A</td>\n",
       "      <td>America/New_York</td>\n",
       "    </tr>\n",
       "    <tr>\n",
       "      <th>1457</th>\n",
       "      <td>ZYP</td>\n",
       "      <td>Penn Station</td>\n",
       "      <td>40.750500</td>\n",
       "      <td>-73.993500</td>\n",
       "      <td>35</td>\n",
       "      <td>-5</td>\n",
       "      <td>A</td>\n",
       "      <td>America/New_York</td>\n",
       "    </tr>\n",
       "  </tbody>\n",
       "</table>\n",
       "<p>1458 rows × 8 columns</p>\n",
       "</div>"
      ],
      "text/plain": [
       "      faa                           name        lat         lon   alt  tz dst  \\\n",
       "0     04G              Lansdowne Airport  41.130472  -80.619583  1044  -5   A   \n",
       "1     06A  Moton Field Municipal Airport  32.460572  -85.680028   264  -6   A   \n",
       "2     06C            Schaumburg Regional  41.989341  -88.101243   801  -6   A   \n",
       "3     06N                Randall Airport  41.431912  -74.391561   523  -5   A   \n",
       "4     09J          Jekyll Island Airport  31.074472  -81.427778    11  -5   A   \n",
       "...   ...                            ...        ...         ...   ...  ..  ..   \n",
       "1453  ZUN                     Black Rock  35.083228 -108.791778  6454  -7   A   \n",
       "1454  ZVE         New Haven Rail Station  41.298669  -72.925992     7  -5   A   \n",
       "1455  ZWI      Wilmington Amtrak Station  39.736667  -75.551667     0  -5   A   \n",
       "1456  ZWU       Washington Union Station  38.897460  -77.006430    76  -5   A   \n",
       "1457  ZYP                   Penn Station  40.750500  -73.993500    35  -5   A   \n",
       "\n",
       "                 tzone  \n",
       "0     America/New_York  \n",
       "1      America/Chicago  \n",
       "2      America/Chicago  \n",
       "3     America/New_York  \n",
       "4     America/New_York  \n",
       "...                ...  \n",
       "1453    America/Denver  \n",
       "1454  America/New_York  \n",
       "1455  America/New_York  \n",
       "1456  America/New_York  \n",
       "1457  America/New_York  \n",
       "\n",
       "[1458 rows x 8 columns]"
      ]
     },
     "execution_count": 19,
     "metadata": {},
     "output_type": "execute_result"
    }
   ],
   "source": [
    "airports_df.drop(columns=['Unnamed: 0'])"
   ]
  },
  {
   "cell_type": "code",
   "execution_count": 11,
   "id": "6d48e621",
   "metadata": {},
   "outputs": [
    {
     "data": {
      "text/html": [
       "<div>\n",
       "<style scoped>\n",
       "    .dataframe tbody tr th:only-of-type {\n",
       "        vertical-align: middle;\n",
       "    }\n",
       "\n",
       "    .dataframe tbody tr th {\n",
       "        vertical-align: top;\n",
       "    }\n",
       "\n",
       "    .dataframe thead th {\n",
       "        text-align: right;\n",
       "    }\n",
       "</style>\n",
       "<table border=\"1\" class=\"dataframe\">\n",
       "  <thead>\n",
       "    <tr style=\"text-align: right;\">\n",
       "      <th></th>\n",
       "      <th>year</th>\n",
       "      <th>month</th>\n",
       "      <th>day</th>\n",
       "      <th>dep_time</th>\n",
       "      <th>sched_dep_time</th>\n",
       "      <th>dep_delay</th>\n",
       "      <th>arr_time</th>\n",
       "      <th>sched_arr_time</th>\n",
       "      <th>arr_delay</th>\n",
       "      <th>carrier</th>\n",
       "      <th>flight</th>\n",
       "      <th>tailnum</th>\n",
       "      <th>origin</th>\n",
       "      <th>dest</th>\n",
       "      <th>air_time</th>\n",
       "      <th>distance</th>\n",
       "      <th>hour</th>\n",
       "      <th>minute</th>\n",
       "      <th>time_hour</th>\n",
       "    </tr>\n",
       "  </thead>\n",
       "  <tbody>\n",
       "    <tr>\n",
       "      <th>0</th>\n",
       "      <td>2021</td>\n",
       "      <td>1</td>\n",
       "      <td>1</td>\n",
       "      <td>517</td>\n",
       "      <td>515</td>\n",
       "      <td>2</td>\n",
       "      <td>830</td>\n",
       "      <td>819</td>\n",
       "      <td>11</td>\n",
       "      <td>UA</td>\n",
       "      <td>1545</td>\n",
       "      <td>N14228</td>\n",
       "      <td>EWR</td>\n",
       "      <td>IAH</td>\n",
       "      <td>227</td>\n",
       "      <td>1400</td>\n",
       "      <td>5</td>\n",
       "      <td>15</td>\n",
       "      <td>2021-01-01T05:00:00Z</td>\n",
       "    </tr>\n",
       "    <tr>\n",
       "      <th>1</th>\n",
       "      <td>2021</td>\n",
       "      <td>1</td>\n",
       "      <td>1</td>\n",
       "      <td>533</td>\n",
       "      <td>529</td>\n",
       "      <td>4</td>\n",
       "      <td>850</td>\n",
       "      <td>830</td>\n",
       "      <td>20</td>\n",
       "      <td>UA</td>\n",
       "      <td>1714</td>\n",
       "      <td>N24211</td>\n",
       "      <td>LGA</td>\n",
       "      <td>IAH</td>\n",
       "      <td>227</td>\n",
       "      <td>1416</td>\n",
       "      <td>5</td>\n",
       "      <td>29</td>\n",
       "      <td>2021-01-01T05:00:00Z</td>\n",
       "    </tr>\n",
       "    <tr>\n",
       "      <th>2</th>\n",
       "      <td>2021</td>\n",
       "      <td>1</td>\n",
       "      <td>1</td>\n",
       "      <td>542</td>\n",
       "      <td>540</td>\n",
       "      <td>2</td>\n",
       "      <td>923</td>\n",
       "      <td>850</td>\n",
       "      <td>33</td>\n",
       "      <td>AA</td>\n",
       "      <td>1141</td>\n",
       "      <td>N619AA</td>\n",
       "      <td>JFK</td>\n",
       "      <td>MIA</td>\n",
       "      <td>160</td>\n",
       "      <td>1089</td>\n",
       "      <td>5</td>\n",
       "      <td>40</td>\n",
       "      <td>2021-01-01T05:00:00Z</td>\n",
       "    </tr>\n",
       "    <tr>\n",
       "      <th>3</th>\n",
       "      <td>2021</td>\n",
       "      <td>1</td>\n",
       "      <td>1</td>\n",
       "      <td>544</td>\n",
       "      <td>545</td>\n",
       "      <td>-1</td>\n",
       "      <td>1004</td>\n",
       "      <td>1022</td>\n",
       "      <td>-18</td>\n",
       "      <td>B6</td>\n",
       "      <td>725</td>\n",
       "      <td>N804JB</td>\n",
       "      <td>JFK</td>\n",
       "      <td>BQN</td>\n",
       "      <td>183</td>\n",
       "      <td>1576</td>\n",
       "      <td>5</td>\n",
       "      <td>45</td>\n",
       "      <td>2021-01-01T05:00:00Z</td>\n",
       "    </tr>\n",
       "    <tr>\n",
       "      <th>4</th>\n",
       "      <td>2021</td>\n",
       "      <td>1</td>\n",
       "      <td>1</td>\n",
       "      <td>554</td>\n",
       "      <td>600</td>\n",
       "      <td>-6</td>\n",
       "      <td>812</td>\n",
       "      <td>837</td>\n",
       "      <td>-25</td>\n",
       "      <td>DL</td>\n",
       "      <td>461</td>\n",
       "      <td>N668DN</td>\n",
       "      <td>LGA</td>\n",
       "      <td>ATL</td>\n",
       "      <td>116</td>\n",
       "      <td>762</td>\n",
       "      <td>6</td>\n",
       "      <td>0</td>\n",
       "      <td>2021-01-01T06:00:00Z</td>\n",
       "    </tr>\n",
       "  </tbody>\n",
       "</table>\n",
       "</div>"
      ],
      "text/plain": [
       "   year  month  day dep_time  sched_dep_time dep_delay arr_time  \\\n",
       "0  2021      1    1      517             515         2      830   \n",
       "1  2021      1    1      533             529         4      850   \n",
       "2  2021      1    1      542             540         2      923   \n",
       "3  2021      1    1      544             545        -1     1004   \n",
       "4  2021      1    1      554             600        -6      812   \n",
       "\n",
       "   sched_arr_time arr_delay carrier  flight tailnum origin dest air_time  \\\n",
       "0             819        11      UA    1545  N14228    EWR  IAH      227   \n",
       "1             830        20      UA    1714  N24211    LGA  IAH      227   \n",
       "2             850        33      AA    1141  N619AA    JFK  MIA      160   \n",
       "3            1022       -18      B6     725  N804JB    JFK  BQN      183   \n",
       "4             837       -25      DL     461  N668DN    LGA  ATL      116   \n",
       "\n",
       "   distance  hour  minute             time_hour  \n",
       "0      1400     5      15  2021-01-01T05:00:00Z  \n",
       "1      1416     5      29  2021-01-01T05:00:00Z  \n",
       "2      1089     5      40  2021-01-01T05:00:00Z  \n",
       "3      1576     5      45  2021-01-01T05:00:00Z  \n",
       "4       762     6       0  2021-01-01T06:00:00Z  "
      ]
     },
     "execution_count": 11,
     "metadata": {},
     "output_type": "execute_result"
    }
   ],
   "source": [
    "flights_df.head()"
   ]
  },
  {
   "cell_type": "code",
   "execution_count": 12,
   "id": "f22e13db",
   "metadata": {},
   "outputs": [
    {
     "data": {
      "text/html": [
       "<div>\n",
       "<style scoped>\n",
       "    .dataframe tbody tr th:only-of-type {\n",
       "        vertical-align: middle;\n",
       "    }\n",
       "\n",
       "    .dataframe tbody tr th {\n",
       "        vertical-align: top;\n",
       "    }\n",
       "\n",
       "    .dataframe thead th {\n",
       "        text-align: right;\n",
       "    }\n",
       "</style>\n",
       "<table border=\"1\" class=\"dataframe\">\n",
       "  <thead>\n",
       "    <tr style=\"text-align: right;\">\n",
       "      <th></th>\n",
       "      <th>origin</th>\n",
       "      <th>year</th>\n",
       "      <th>month</th>\n",
       "      <th>day</th>\n",
       "      <th>hour</th>\n",
       "      <th>temp</th>\n",
       "      <th>dewp</th>\n",
       "      <th>humid</th>\n",
       "      <th>wind_dir</th>\n",
       "      <th>wind_speed</th>\n",
       "      <th>wind_gust</th>\n",
       "      <th>precip</th>\n",
       "      <th>pressure</th>\n",
       "      <th>visib</th>\n",
       "      <th>time_hour</th>\n",
       "    </tr>\n",
       "  </thead>\n",
       "  <tbody>\n",
       "    <tr>\n",
       "      <th>0</th>\n",
       "      <td>EWR</td>\n",
       "      <td>2021</td>\n",
       "      <td>1</td>\n",
       "      <td>1</td>\n",
       "      <td>0</td>\n",
       "      <td>37.04</td>\n",
       "      <td>21.92</td>\n",
       "      <td>53.97</td>\n",
       "      <td>230</td>\n",
       "      <td>10.35702</td>\n",
       "      <td>11.918651</td>\n",
       "      <td>0.0</td>\n",
       "      <td>1013.9</td>\n",
       "      <td>10.0</td>\n",
       "      <td>2021-01-01T00:00:00Z</td>\n",
       "    </tr>\n",
       "    <tr>\n",
       "      <th>1</th>\n",
       "      <td>EWR</td>\n",
       "      <td>2021</td>\n",
       "      <td>1</td>\n",
       "      <td>1</td>\n",
       "      <td>1</td>\n",
       "      <td>37.04</td>\n",
       "      <td>21.92</td>\n",
       "      <td>53.97</td>\n",
       "      <td>230</td>\n",
       "      <td>13.80936</td>\n",
       "      <td>15.891535</td>\n",
       "      <td>0.0</td>\n",
       "      <td>1013</td>\n",
       "      <td>10.0</td>\n",
       "      <td>2021-01-01T01:00:00Z</td>\n",
       "    </tr>\n",
       "    <tr>\n",
       "      <th>2</th>\n",
       "      <td>EWR</td>\n",
       "      <td>2021</td>\n",
       "      <td>1</td>\n",
       "      <td>1</td>\n",
       "      <td>2</td>\n",
       "      <td>37.94</td>\n",
       "      <td>21.92</td>\n",
       "      <td>52.09</td>\n",
       "      <td>230</td>\n",
       "      <td>12.65858</td>\n",
       "      <td>14.567241</td>\n",
       "      <td>0.0</td>\n",
       "      <td>1012.6</td>\n",
       "      <td>10.0</td>\n",
       "      <td>2021-01-01T02:00:00Z</td>\n",
       "    </tr>\n",
       "    <tr>\n",
       "      <th>3</th>\n",
       "      <td>EWR</td>\n",
       "      <td>2021</td>\n",
       "      <td>1</td>\n",
       "      <td>1</td>\n",
       "      <td>3</td>\n",
       "      <td>37.94</td>\n",
       "      <td>23.00</td>\n",
       "      <td>54.51</td>\n",
       "      <td>230</td>\n",
       "      <td>13.80936</td>\n",
       "      <td>15.891535</td>\n",
       "      <td>0.0</td>\n",
       "      <td>1012.7</td>\n",
       "      <td>10.0</td>\n",
       "      <td>2021-01-01T03:00:00Z</td>\n",
       "    </tr>\n",
       "    <tr>\n",
       "      <th>4</th>\n",
       "      <td>EWR</td>\n",
       "      <td>2021</td>\n",
       "      <td>1</td>\n",
       "      <td>1</td>\n",
       "      <td>4</td>\n",
       "      <td>37.94</td>\n",
       "      <td>24.08</td>\n",
       "      <td>57.04</td>\n",
       "      <td>240</td>\n",
       "      <td>14.96014</td>\n",
       "      <td>17.215830</td>\n",
       "      <td>0.0</td>\n",
       "      <td>1012.8</td>\n",
       "      <td>10.0</td>\n",
       "      <td>2021-01-01T04:00:00Z</td>\n",
       "    </tr>\n",
       "  </tbody>\n",
       "</table>\n",
       "</div>"
      ],
      "text/plain": [
       "  origin  year  month  day  hour   temp   dewp  humid  wind_dir  wind_speed  \\\n",
       "0    EWR  2021      1    1     0  37.04  21.92  53.97       230    10.35702   \n",
       "1    EWR  2021      1    1     1  37.04  21.92  53.97       230    13.80936   \n",
       "2    EWR  2021      1    1     2  37.94  21.92  52.09       230    12.65858   \n",
       "3    EWR  2021      1    1     3  37.94  23.00  54.51       230    13.80936   \n",
       "4    EWR  2021      1    1     4  37.94  24.08  57.04       240    14.96014   \n",
       "\n",
       "   wind_gust  precip pressure  visib             time_hour  \n",
       "0  11.918651     0.0   1013.9   10.0  2021-01-01T00:00:00Z  \n",
       "1  15.891535     0.0     1013   10.0  2021-01-01T01:00:00Z  \n",
       "2  14.567241     0.0   1012.6   10.0  2021-01-01T02:00:00Z  \n",
       "3  15.891535     0.0   1012.7   10.0  2021-01-01T03:00:00Z  \n",
       "4  17.215830     0.0   1012.8   10.0  2021-01-01T04:00:00Z  "
      ]
     },
     "execution_count": 12,
     "metadata": {},
     "output_type": "execute_result"
    }
   ],
   "source": [
    "weather_df.head()"
   ]
  },
  {
   "cell_type": "code",
   "execution_count": 58,
   "id": "2759fdbb",
   "metadata": {},
   "outputs": [
    {
     "data": {
      "text/html": [
       "<div>\n",
       "<style scoped>\n",
       "    .dataframe tbody tr th:only-of-type {\n",
       "        vertical-align: middle;\n",
       "    }\n",
       "\n",
       "    .dataframe tbody tr th {\n",
       "        vertical-align: top;\n",
       "    }\n",
       "\n",
       "    .dataframe thead th {\n",
       "        text-align: right;\n",
       "    }\n",
       "</style>\n",
       "<table border=\"1\" class=\"dataframe\">\n",
       "  <thead>\n",
       "    <tr style=\"text-align: right;\">\n",
       "      <th></th>\n",
       "      <th>tailnum</th>\n",
       "      <th>year</th>\n",
       "      <th>type</th>\n",
       "      <th>manufacturer</th>\n",
       "      <th>model</th>\n",
       "      <th>engines</th>\n",
       "      <th>seats</th>\n",
       "      <th>speed</th>\n",
       "      <th>engine</th>\n",
       "    </tr>\n",
       "  </thead>\n",
       "  <tbody>\n",
       "    <tr>\n",
       "      <th>0</th>\n",
       "      <td>N10156</td>\n",
       "      <td>2004.0</td>\n",
       "      <td>Fixed wing multi engine</td>\n",
       "      <td>EMBRAER</td>\n",
       "      <td>EMB-145XR</td>\n",
       "      <td>2</td>\n",
       "      <td>55</td>\n",
       "      <td>NaN</td>\n",
       "      <td>Turbo-fan</td>\n",
       "    </tr>\n",
       "    <tr>\n",
       "      <th>1</th>\n",
       "      <td>N102UW</td>\n",
       "      <td>1998.0</td>\n",
       "      <td>Fixed wing multi engine</td>\n",
       "      <td>AIRBUS INDUSTRIE</td>\n",
       "      <td>A320-214</td>\n",
       "      <td>2</td>\n",
       "      <td>182</td>\n",
       "      <td>NaN</td>\n",
       "      <td>Turbo-fan</td>\n",
       "    </tr>\n",
       "    <tr>\n",
       "      <th>2</th>\n",
       "      <td>N103US</td>\n",
       "      <td>1999.0</td>\n",
       "      <td>Fixed wing multi engine</td>\n",
       "      <td>AIRBUS INDUSTRIE</td>\n",
       "      <td>A320-214</td>\n",
       "      <td>2</td>\n",
       "      <td>182</td>\n",
       "      <td>NaN</td>\n",
       "      <td>Turbo-fan</td>\n",
       "    </tr>\n",
       "    <tr>\n",
       "      <th>3</th>\n",
       "      <td>N104UW</td>\n",
       "      <td>1999.0</td>\n",
       "      <td>Fixed wing multi engine</td>\n",
       "      <td>AIRBUS INDUSTRIE</td>\n",
       "      <td>A320-214</td>\n",
       "      <td>2</td>\n",
       "      <td>182</td>\n",
       "      <td>NaN</td>\n",
       "      <td>Turbo-fan</td>\n",
       "    </tr>\n",
       "    <tr>\n",
       "      <th>4</th>\n",
       "      <td>N10575</td>\n",
       "      <td>2002.0</td>\n",
       "      <td>Fixed wing multi engine</td>\n",
       "      <td>EMBRAER</td>\n",
       "      <td>EMB-145LR</td>\n",
       "      <td>2</td>\n",
       "      <td>55</td>\n",
       "      <td>NaN</td>\n",
       "      <td>Turbo-fan</td>\n",
       "    </tr>\n",
       "  </tbody>\n",
       "</table>\n",
       "</div>"
      ],
      "text/plain": [
       "  tailnum    year                     type      manufacturer      model  \\\n",
       "0  N10156  2004.0  Fixed wing multi engine           EMBRAER  EMB-145XR   \n",
       "1  N102UW  1998.0  Fixed wing multi engine  AIRBUS INDUSTRIE   A320-214   \n",
       "2  N103US  1999.0  Fixed wing multi engine  AIRBUS INDUSTRIE   A320-214   \n",
       "3  N104UW  1999.0  Fixed wing multi engine  AIRBUS INDUSTRIE   A320-214   \n",
       "4  N10575  2002.0  Fixed wing multi engine           EMBRAER  EMB-145LR   \n",
       "\n",
       "   engines  seats  speed     engine  \n",
       "0        2     55    NaN  Turbo-fan  \n",
       "1        2    182    NaN  Turbo-fan  \n",
       "2        2    182    NaN  Turbo-fan  \n",
       "3        2    182    NaN  Turbo-fan  \n",
       "4        2     55    NaN  Turbo-fan  "
      ]
     },
     "execution_count": 58,
     "metadata": {},
     "output_type": "execute_result"
    }
   ],
   "source": [
    "planes_df = planes_df[0].drop(columns=['Unnamed: 0'])\n",
    "planes_df.head()"
   ]
  },
  {
   "cell_type": "markdown",
   "id": "4e2725e2",
   "metadata": {},
   "source": [
    "# QUESTION 1"
   ]
  },
  {
   "cell_type": "markdown",
   "id": "8a6f9091",
   "metadata": {},
   "source": [
    "Combien y-a-t-il \n",
    "d’aéroports en tout, de départ et de destination"
   ]
  },
  {
   "cell_type": "code",
   "execution_count": 14,
   "id": "de8aa9db",
   "metadata": {},
   "outputs": [
    {
     "name": "stdout",
     "output_type": "stream",
     "text": [
      "Number of unique departure airports: 3\n",
      "Number of unique destination airports: 103\n",
      "Total number of airports in the dataset: 1458\n"
     ]
    }
   ],
   "source": [
    "# How many unique departure and destination airports are there in the flights dataset?\n",
    "departure_airports = flights_df['origin'].nunique()\n",
    "total_airports = airports_df.shape[0]\n",
    "destination_airports = flights_df['dest'].nunique()\n",
    "print(f\"Number of unique departure airports: {departure_airports}\")\n",
    "print(f\"Number of unique destination airports: {destination_airports}\")\n",
    "print(f\"Total number of airports in the dataset: {total_airports}\")"
   ]
  },
  {
   "cell_type": "markdown",
   "id": "3ef2b5e2",
   "metadata": {},
   "source": [
    "Combien y-a-t-il \n",
    "d’aéroports où on ne passe pas à l’heure d’été (indice : colonne dst : 23) ?"
   ]
  },
  {
   "cell_type": "code",
   "execution_count": 45,
   "id": "a034b953",
   "metadata": {},
   "outputs": [
    {
     "name": "stdout",
     "output_type": "stream",
     "text": [
      "Number of airports that do not observe daylight saving time: 23\n"
     ]
    }
   ],
   "source": [
    "no_dst_airports = airports_df[airports_df['dst'] == 'N'].shape[0]\n",
    "print(f\"Number of airports that do not observe daylight saving time: {no_dst_airports}\")"
   ]
  },
  {
   "cell_type": "markdown",
   "id": "0c988248",
   "metadata": {},
   "source": [
    "Combien y-a-t-il \n",
    "de fuseaux horaires (10 voir colone tzone dont une « N »)?\n"
   ]
  },
  {
   "cell_type": "code",
   "execution_count": 46,
   "id": "70f622d9",
   "metadata": {},
   "outputs": [
    {
     "name": "stdout",
     "output_type": "stream",
     "text": [
      "Nombre de fuseaux horaires : 10\n"
     ]
    }
   ],
   "source": [
    "num_timezones = airports_df['tzone'].nunique()\n",
    "print(f\"Nombre de fuseaux horaires : {num_timezones}\")"
   ]
  },
  {
   "cell_type": "markdown",
   "id": "7f388754",
   "metadata": {},
   "source": [
    " Combien y-a-t-il de compagnies, d’avions, de vols annulés ?"
   ]
  },
  {
   "cell_type": "code",
   "execution_count": 59,
   "id": "565f028b",
   "metadata": {},
   "outputs": [
    {
     "name": "stdout",
     "output_type": "stream",
     "text": [
      "Nombre de compagnies : 16\n",
      "Nombre d’avions uniques : 3983\n",
      "Nombre de vols annulés : 0\n"
     ]
    }
   ],
   "source": [
    "num_airlines = airlines_df['carrier'].nunique()\n",
    "print(f\"Nombre de compagnies : {num_airlines}\")\n",
    "num_planes = flights_df['tailnum'].nunique()\n",
    "print(f\"Nombre d’avions uniques : {num_planes}\")\n",
    "# Vols annulés = dep_time manquant ou arr_time manquant\n",
    "num_cancelled = flights_df[flights_df['dep_time'].isna() | flights_df['arr_time'].isna()].shape[0]\n",
    "print(f\"Nombre de vols annulés : {num_cancelled}\")\n",
    "\n",
    "\n"
   ]
  },
  {
   "cell_type": "markdown",
   "id": "afcacbdf",
   "metadata": {},
   "source": [
    "# Question 2"
   ]
  },
  {
   "cell_type": "markdown",
   "id": "ae08c459",
   "metadata": {},
   "source": [
    " Quel est l’aéroport de départ le plus emprunté ?"
   ]
  },
  {
   "cell_type": "code",
   "execution_count": 147,
   "id": "85ed4fe3",
   "metadata": {},
   "outputs": [
    {
     "name": "stdout",
     "output_type": "stream",
     "text": [
      "\n",
      " AÉROPORT DE DÉPART LE PLUS EMPRUNTÉ : EWR (91,241 vols)\n"
     ]
    }
   ],
   "source": [
    "# ============= Aéroport de départ le plus emprunté =============\n",
    "most_used_origin = flights_df['origin'].value_counts().idxmax()\n",
    "count = flights_df['origin'].value_counts().max()\n",
    "print(f\"\\n AÉROPORT DE DÉPART LE PLUS EMPRUNTÉ : {most_used_origin} ({count:,} vols)\")\n"
   ]
  },
  {
   "cell_type": "markdown",
   "id": "545dd46b",
   "metadata": {},
   "source": [
    "Quelles sont les 10 destinations les plus (moins)\n",
    "prisées (en indiquant le nom complet des destinations et non juste le code correspondant et le %\n",
    "corresp pour chaque destination) ?"
   ]
  },
  {
   "cell_type": "code",
   "execution_count": 146,
   "id": "469be72f",
   "metadata": {},
   "outputs": [
    {
     "name": "stdout",
     "output_type": "stream",
     "text": [
      "\n",
      " TOP 10 DESTINATIONS LES PLUS PRISÉES :\n",
      "   ATL - Hartsfield Jackson Atlanta Intl: 12,946 vols (5.12%)\n",
      "   ORD - Chicago Ohare Intl: 12,654 vols (5.01%)\n",
      "   LAX - Los Angeles Intl: 11,895 vols (4.71%)\n",
      "   BOS - General Edward Lawrence Logan Intl: 11,560 vols (4.57%)\n",
      "   MCO - Orlando Intl: 10,637 vols (4.21%)\n",
      "   CLT - Charlotte Douglas Intl: 10,448 vols (4.13%)\n",
      "   SFO - San Francisco Intl: 9,729 vols (3.85%)\n",
      "   FLL - Fort Lauderdale Hollywood Intl: 9,443 vols (3.74%)\n",
      "   MIA - Miami Intl: 8,938 vols (3.54%)\n",
      "   DCA - Ronald Reagan Washington Natl: 7,386 vols (2.92%)\n",
      "\n",
      " TOP 10 DESTINATIONS LES MOINS PRISÉES :\n",
      "   CHO - Charlottesville-Albemarle: 31 vols (0.01%)\n",
      "   JAC - Jackson Hole Airport: 25 vols (0.01%)\n",
      "   BZN - Gallatin Field: 20 vols (0.01%)\n",
      "   PSP - Palm Springs Intl: 19 vols (0.01%)\n",
      "   EYW - Key West Intl: 17 vols (0.01%)\n",
      "   TVC - Cherry Capital Airport: 16 vols (0.01%)\n",
      "   MTJ - Montrose Regional Airport: 15 vols (0.01%)\n",
      "   HDN - Yampa Valley: 15 vols (0.01%)\n",
      "   SBN - South Bend Rgnl: 4 vols (0.00%)\n",
      "   LEX - Blue Grass: 1 vols (0.00%)\n"
     ]
    }
   ],
   "source": [
    "# =============  Top 10 destinations =============\n",
    "total_flights = len(flights_df)\n",
    "\n",
    "# TOP 10 DESTINATIONS\n",
    "top10_dest = flights_df['dest'].value_counts().head(10).reset_index()\n",
    "top10_dest.columns = ['dest', 'count']\n",
    "top10_dest['percentage'] = (top10_dest['count'] / total_flights * 100).round(2)\n",
    "\n",
    "# Jointure pour noms complets\n",
    "top10_dest = top10_dest.merge(\n",
    "    airports_df[['faa', 'name']], \n",
    "    left_on='dest', \n",
    "    right_on='faa',\n",
    "    how='left'\n",
    ").drop('faa', axis=1)\n",
    "\n",
    "print(\"\\n TOP 10 DESTINATIONS LES PLUS PRISÉES :\")\n",
    "for _, row in top10_dest.iterrows():\n",
    "    print(f\"   {row['dest']} - {row['name']}: {row['count']:,} vols ({row['percentage']:.2f}%)\")\n",
    "\n",
    "# BOTTOM 10 DESTINATIONS\n",
    "bottom10_dest = flights_df['dest'].value_counts().tail(10).reset_index()\n",
    "bottom10_dest.columns = ['dest', 'count']\n",
    "bottom10_dest['percentage'] = (bottom10_dest['count'] / total_flights * 100).round(2)\n",
    "\n",
    "# Jointure pour noms complets\n",
    "bottom10_dest = bottom10_dest.merge(\n",
    "    airports_df[['faa', 'name']], \n",
    "    left_on='dest', \n",
    "    right_on='faa',\n",
    "    how='left'\n",
    ").drop('faa', axis=1)\n",
    "\n",
    "print(\"\\n TOP 10 DESTINATIONS LES MOINS PRISÉES :\")\n",
    "for _, row in bottom10_dest.iterrows():\n",
    "    print(f\"   {row['dest']} - {row['name']}: {row['count']} vols ({row['percentage']:.2f}%)\")"
   ]
  },
  {
   "cell_type": "markdown",
   "id": "a33d53ae",
   "metadata": {},
   "source": [
    "  Quelle sont les 10 avions qui ont le plus (moins) décollé ?"
   ]
  },
  {
   "cell_type": "code",
   "execution_count": 145,
   "id": "b35042db",
   "metadata": {},
   "outputs": [
    {
     "name": "stdout",
     "output_type": "stream",
     "text": [
      "\n",
      " TOP 10 AVIONS LES PLUS UTILISÉS :\n",
      "    : 1973 décollages\n",
      "   N725MQ: 443 décollages\n",
      "   N723MQ: 394 décollages\n",
      "   N713MQ: 385 décollages\n",
      "   N722MQ: 378 décollages\n",
      "   N711MQ: 376 décollages\n",
      "   N258JB: 332 décollages\n",
      "   N353JB: 316 décollages\n",
      "   N351JB: 310 décollages\n",
      "   N542MQ: 310 décollages\n",
      "\n",
      " TOP 10 AVIONS LES MOINS UTILISÉS :\n",
      "   N601WN: 1 décollages\n",
      "   N456UW: 1 décollages\n",
      "   N750AT: 1 décollages\n",
      "   N670US: 1 décollages\n",
      "   N913EV: 1 décollages\n",
      "   N8618N: 1 décollages\n",
      "   N27901: 1 décollages\n",
      "   N827AW: 1 décollages\n",
      "   N670SW: 1 décollages\n",
      "   N451UW: 1 décollages\n"
     ]
    }
   ],
   "source": [
    "# =============  Top 10 avions =============\n",
    "# TOP 10 AVIONS\n",
    "top10_planes = flights_df['tailnum'].value_counts().head(10)\n",
    "print(\"\\n TOP 10 AVIONS LES PLUS UTILISÉS :\")\n",
    "for tailnum, count in top10_planes.items():\n",
    "    print(f\"   {tailnum}: {count} décollages\")\n",
    "\n",
    "# BOTTOM 10 AVIONS\n",
    "bottom10_planes = flights_df['tailnum'].value_counts().tail(10)\n",
    "print(\"\\n TOP 10 AVIONS LES MOINS UTILISÉS :\")\n",
    "for tailnum, count in bottom10_planes.items():\n",
    "    print(f\"   {tailnum}: {count} décollages\")"
   ]
  },
  {
   "cell_type": "markdown",
   "id": "1ae65a25",
   "metadata": {},
   "source": [
    "# Question 3"
   ]
  },
  {
   "cell_type": "markdown",
   "id": "ccb28f7b",
   "metadata": {},
   "source": [
    "Combien chaque compagnie a desservi de destination ; combien chaque compagnie a desservie de\n",
    "destination par aéroport d’origine. Réaliser les graphiques adéquats qui synthétisent ces\n",
    "informations ? "
   ]
  },
  {
   "cell_type": "code",
   "execution_count": 142,
   "id": "deb8d678",
   "metadata": {},
   "outputs": [
    {
     "data": {
      "image/png": "[encoded data removed]",
      "text/plain": [
       "<Figure size 640x480 with 1 Axes>"
      ]
     },
     "metadata": {},
     "output_type": "display_data"
    },
    {
     "data": {
      "image/png": "[encoded data removed]",
      "text/plain": [
       "<Figure size 1500x500 with 3 Axes>"
      ]
     },
     "metadata": {},
     "output_type": "display_data"
    }
   ],
   "source": [
    "# Nombre de destinations desservies par compagnie\n",
    "dest_per_carrier = flights_df.groupby('carrier')['dest'].nunique()\n",
    "#print(\"Nombre de destinations desservies par compagnie :\")\n",
    "#print(dest_per_carrier)\n",
    "\n",
    "# Nombre de destinations par compagnie et aéroport d’origine\n",
    "dest_per_carrier_origin = flights_df.groupby(['carrier','origin'])['dest'].nunique()\n",
    "#print(\"Nombre de destinations par compagnie et aéroport d’origine :\")\n",
    "#print(dest_per_carrier_origin)\n",
    "\n",
    "dest_per_carrier.plot(kind='bar', title='Destinations par compagnie')\n",
    "#dest_per_carrier_origin.unstack().plot(kind='bar', title='Destinations par compagnie et aéroport d’origine')\n",
    "import matplotlib.pyplot as plt\n",
    "\n",
    "fig, axes = plt.subplots(1, 3, figsize=(15, 5), sharey=True)\n",
    "origins = flights_df['origin'].unique()\n",
    "\n",
    "for i, origin in enumerate(origins):\n",
    "    data = dest_per_carrier_origin.xs(origin, level='origin')\n",
    "    data.sort_values(ascending=False).plot(\n",
    "        kind='barh', ax=axes[i], title=f'Depuis {origin}'\n",
    "    )\n",
    "    \n",
    "plt.tight_layout()\n",
    "plt.show()"
   ]
  },
  {
   "cell_type": "markdown",
   "id": "e105b219",
   "metadata": {},
   "source": [
    "# Question 4"
   ]
  },
  {
   "cell_type": "markdown",
   "id": "6ffb9624",
   "metadata": {},
   "source": [
    "Trouver tous les vols ayant atterri à Houston (IAH ou HOU) ? "
   ]
  },
  {
   "cell_type": "code",
   "execution_count": 138,
   "id": "50be0aa2",
   "metadata": {},
   "outputs": [
    {
     "name": "stdout",
     "output_type": "stream",
     "text": [
      "\n",
      " Vols ayant atterri à HOUSTON : 6,958 vols trouvés\n"
     ]
    }
   ],
   "source": [
    "# ============= VOLS VERS HOUSTON =============\n",
    "houston_flights = flights_df[flights_df['dest'].isin(['IAH','HOU'])]\n",
    "print(f\"\\n Vols ayant atterri à HOUSTON : {len(houston_flights):,} vols trouvés\")\n",
    "\n"
   ]
  },
  {
   "cell_type": "markdown",
   "id": "a9ccc6e2",
   "metadata": {},
   "source": [
    "Combien de vols partent de NYC\n",
    "airports vers Seattle, combien de compagnies desservent cette destination et combien d’avions\n",
    "“uniques” ?"
   ]
  },
  {
   "cell_type": "code",
   "execution_count": 137,
   "id": "e4bb626f",
   "metadata": {},
   "outputs": [
    {
     "name": "stdout",
     "output_type": "stream",
     "text": [
      "\n",
      "NYC → SEATTLE : 2,736 vols\n",
      "Compagnies qui desservent cette destination : 5\n",
      "Avions uniques : 857\n"
     ]
    }
   ],
   "source": [
    "# ============= VOLS NYC -> SEATTLE =============\n",
    "nyc_airports = ['JFK','LGA','EWR']\n",
    "seattle_flights = flights_df[\n",
    "    (flights_df['origin'].isin(nyc_airports)) & \n",
    "    (flights_df['dest'] == 'SEA')\n",
    "]\n",
    "\n",
    "print(f\"\\nNYC → SEATTLE : {len(seattle_flights):,} vols\")\n",
    "print(f\"Compagnies qui desservent cette destination : {seattle_flights['carrier'].nunique()}\")\n",
    "print(f\"Avions uniques : {seattle_flights['tailnum'].nunique()}\")"
   ]
  },
  {
   "cell_type": "markdown",
   "id": "bcd22afc",
   "metadata": {},
   "source": [
    "# Question 5"
   ]
  },
  {
   "cell_type": "markdown",
   "id": "794dd70f",
   "metadata": {},
   "source": [
    "Trouver le nombre de vols par destination ? "
   ]
  },
  {
   "cell_type": "code",
   "execution_count": null,
   "id": "3a38c023",
   "metadata": {},
   "outputs": [
    {
     "name": "stdout",
     "output_type": "stream",
     "text": [
      "\n",
      " NOMBRE DE VOLS PAR DESTINATION :\n",
      "   dest  num_flights                                name\n",
      "3   ATL        12946     Hartsfield Jackson Atlanta Intl\n",
      "67  ORD        12654                  Chicago Ohare Intl\n",
      "48  LAX        11895                    Los Angeles Intl\n",
      "10  BOS        11560  General Edward Lawrence Logan Intl\n",
      "52  MCO        10637                        Orlando Intl\n",
      "22  CLT        10448              Charlotte Douglas Intl\n",
      "88  SFO         9729                  San Francisco Intl\n",
      "34  FLL         9443      Fort Lauderdale Hollywood Intl\n",
      "56  MIA         8938                          Miami Intl\n",
      "27  DCA         7386       Ronald Reagan Washington Natl\n"
     ]
    }
   ],
   "source": [
    "\n",
    "flights_per_dest = flights_df.groupby('dest').size().reset_index(name='num_flights')\n",
    "flights_per_dest = flights_per_dest.merge(\n",
    "    airports_df[['faa','name']], \n",
    "    left_on='dest', \n",
    "    right_on='faa',\n",
    "    how='left'\n",
    ").drop('faa', axis=1)  # Supprimer la colonne redondante\n",
    "\n",
    "print(\"\\n NOMBRE DE VOLS PAR DESTINATION :\")\n",
    "print(flights_per_dest.sort_values('num_flights', ascending=False).head(10))\n"
   ]
  },
  {
   "cell_type": "markdown",
   "id": "87cfe36d",
   "metadata": {},
   "source": [
    "Trier les vols suivant la destination, l’aéroport d’origine,\n",
    "la compagnie dans un ordre alphabétique croissant (en réalisant les jointures nécessaires pour\n",
    "obtenir les noms explicites des aéroports) ?"
   ]
  },
  {
   "cell_type": "code",
   "execution_count": null,
   "id": "891ee800",
   "metadata": {},
   "outputs": [
    {
     "name": "stdout",
     "output_type": "stream",
     "text": [
      "\n",
      " VOLS TRIÉS (échantillon des 10 premiers) :\n",
      "                          dest_name origin_name                 carrier_name  \\\n",
      "288   Akron Canton Regional Airport  La Guardia  AirTran Airways Corporation   \n",
      "759   Akron Canton Regional Airport  La Guardia  AirTran Airways Corporation   \n",
      "1195  Akron Canton Regional Airport  La Guardia  AirTran Airways Corporation   \n",
      "1691  Akron Canton Regional Airport  La Guardia  AirTran Airways Corporation   \n",
      "2126  Akron Canton Regional Airport  La Guardia  AirTran Airways Corporation   \n",
      "2608  Akron Canton Regional Airport  La Guardia  AirTran Airways Corporation   \n",
      "3058  Akron Canton Regional Airport  La Guardia  AirTran Airways Corporation   \n",
      "3534  Akron Canton Regional Airport  La Guardia  AirTran Airways Corporation   \n",
      "3895  Akron Canton Regional Airport  La Guardia  AirTran Airways Corporation   \n",
      "4284  Akron Canton Regional Airport  La Guardia  AirTran Airways Corporation   \n",
      "\n",
      "     dep_time arr_time  \n",
      "288      1147     1335  \n",
      "759      2020     2148  \n",
      "1195     1147     1318  \n",
      "1691     2024     2203  \n",
      "2126     1151     1327  \n",
      "2608     2021     2158  \n",
      "3058     1156     1323  \n",
      "3534     2029     2154  \n",
      "3895     1144     1307  \n",
      "4284     2023     2144  \n"
     ]
    }
   ],
   "source": [
    "\n",
    "flights_sorted = flights_df.copy()\n",
    "\n",
    "# Jointure 1 : Nom de la destination\n",
    "flights_sorted = flights_sorted.merge(\n",
    "    airports_df[['faa', 'name']], \n",
    "    left_on='dest', \n",
    "    right_on='faa',\n",
    "    how='left'\n",
    ").rename(columns={'name': 'dest_name'}).drop('faa', axis=1)\n",
    "\n",
    "# Jointure 2 : Nom de l'origine\n",
    "flights_sorted = flights_sorted.merge(\n",
    "    airports_df[['faa', 'name']], \n",
    "    left_on='origin', \n",
    "    right_on='faa',\n",
    "    how='left'\n",
    ").rename(columns={'name': 'origin_name'}).drop('faa', axis=1)\n",
    "\n",
    "# Jointure 3 : Nom de la compagnie\n",
    "flights_sorted = flights_sorted.merge(\n",
    "    airlines_df[['carrier', 'name']], \n",
    "    on='carrier',\n",
    "    how='left'\n",
    ").rename(columns={'name': 'carrier_name'})\n",
    "\n",
    "# Tri alphabétique croissant par destination, origine, compagnie\n",
    "flights_sorted = flights_sorted.sort_values(\n",
    "    by=['dest_name', 'origin_name', 'carrier_name']\n",
    ")\n",
    "\n",
    "print(\"\\n VOLS TRIÉS (échantillon des 10 premiers) :\")\n",
    "print(flights_sorted[['dest_name', 'origin_name', 'carrier_name', 'dep_time', 'arr_time']].head(10))"
   ]
  },
  {
   "cell_type": "markdown",
   "id": "b1485035",
   "metadata": {},
   "source": [
    "# Question 6\n"
   ]
  },
  {
   "cell_type": "markdown",
   "id": "0346d0e6",
   "metadata": {},
   "source": [
    "Quelles sont les compagnies qui n'opèrent pas sur tous les aéroports d’origine ? \n"
   ]
  },
  {
   "cell_type": "code",
   "execution_count": null,
   "id": "ec601c93",
   "metadata": {},
   "outputs": [
    {
     "name": "stdout",
     "output_type": "stream",
     "text": [
      " Nombre total d'aéroports d'origine : 3\n",
      "\n",
      " COMPAGNIES N'OPÉRANT PAS SUR TOUS LES AÉROPORTS (8/16) :\n",
      "   AS (Alaska Airlines Inc.): 1/3 aéroports\n",
      "   F9 (Frontier Airlines Inc.): 1/3 aéroports\n",
      "   FL (AirTran Airways Corporation): 1/3 aéroports\n",
      "   HA (Hawaiian Airlines Inc.): 1/3 aéroports\n",
      "   OO (SkyWest Airlines Inc.): 2/3 aéroports\n",
      "   VX (Virgin America): 2/3 aéroports\n",
      "   WN (Southwest Airlines Co.): 2/3 aéroports\n",
      "   YV (Mesa Airlines Inc.): 1/3 aéroports\n"
     ]
    }
   ],
   "source": [
    "# ============= Compagnies qui n'opèrent pas sur tous les aéroports =============\n",
    "total_origins = flights_df['origin'].nunique()\n",
    "origins_per_carrier = flights_df.groupby('carrier')['origin'].nunique()\n",
    "companies_not_all_origins = origins_per_carrier[origins_per_carrier < total_origins]\n",
    "\n",
    "print(f\" Nombre total d'aéroports d'origine : {total_origins}\")\n",
    "print(f\"\\n COMPAGNIES N'OPÉRANT PAS SUR TOUS LES AÉROPORTS ({len(companies_not_all_origins)}/{len(origins_per_carrier)}) :\")\n",
    "for carrier, num_origins in companies_not_all_origins.items():\n",
    "    carrier_name = airlines_df[airlines_df['carrier']==carrier]['name'].values[0]\n",
    "    print(f\"   {carrier} ({carrier_name}): {num_origins}/{total_origins} aéroports\")"
   ]
  },
  {
   "cell_type": "markdown",
   "id": "fe7db09d",
   "metadata": {},
   "source": [
    "Quelles sont les\n",
    "compagnies qui desservent l’ensemble de destinations ?"
   ]
  },
  {
   "cell_type": "code",
   "execution_count": 131,
   "id": "416bc534",
   "metadata": {},
   "outputs": [
    {
     "name": "stdout",
     "output_type": "stream",
     "text": [
      "\n",
      " Nombre total de destinations : 103\n",
      "\n",
      " COMPAGNIES DESSERVANT TOUTES LES DESTINATIONS :\n",
      "    Aucune compagnie ne dessert toutes les destinations\n"
     ]
    }
   ],
   "source": [
    "# ============= Compagnies desservant toutes les destinations =============\n",
    "total_destinations = flights_df['dest'].nunique()\n",
    "destinations_per_carrier = flights_df.groupby('carrier')['dest'].nunique()\n",
    "companies_all_destinations = destinations_per_carrier[destinations_per_carrier == total_destinations]\n",
    "\n",
    "print(f\"\\n Nombre total de destinations : {total_destinations}\")\n",
    "print(f\"\\n COMPAGNIES DESSERVANT TOUTES LES DESTINATIONS :\")\n",
    "if len(companies_all_destinations) > 0:\n",
    "    for carrier in companies_all_destinations.index:\n",
    "        carrier_name = airlines_df[airlines_df['carrier']==carrier]['name'].values[0]\n",
    "        print(f\"   {carrier} ({carrier_name})\")\n",
    "else:\n",
    "    print(\"    Aucune compagnie ne dessert toutes les destinations\")"
   ]
  },
  {
   "cell_type": "markdown",
   "id": "5c0f9aa9",
   "metadata": {},
   "source": [
    "Faire un tableau où l’on récupère l’ensemble des origines et des destinations pour l’ensemble des\n",
    "compagnies."
   ]
  },
  {
   "cell_type": "code",
   "execution_count": 132,
   "id": "7bff6e69",
   "metadata": {},
   "outputs": [
    {
     "name": "stdout",
     "output_type": "stream",
     "text": [
      "\n",
      " TABLEAU COMPLET ORIGINES ET DESTINATIONS PAR COMPAGNIE :\n",
      "carrier                        name  num_origins        origin  num_destinations                                                                                                                                                                                                                                                                                                            dest\n",
      "     9E           Endeavor Air Inc.            3 EWR, JFK, LGA                47                                                                       ATL, AUS, AVL, BGR, BNA, BOS, BTV, BUF, BWI, CAE, CHS, CLE, CLT, CMH, CVG, DAY, DCA, DFW, DSM, DTW, GRR, GSP, IAD, IND, JAX, LEX, MCI, MEM, MHT, MKE, MSP, MSY, MVY, ORD, ORF, PHL, PIT, RDU, RIC, ROC, RSW, SAT, SDF, SRQ, SYR, TPA, TYS\n",
      "     AA      American Airlines Inc.            3 EWR, JFK, LGA                19                                                                                                                                                                                                                   AUS, BOS, DFW, EGE, FLL, IAH, LAS, LAX, MCO, MIA, ORD, PBI, SAN, SEA, SFO, SJU, STL, STT, TPA\n",
      "     AS        Alaska Airlines Inc.            1           EWR                 1                                                                                                                                                                                                                                                                                                             SEA\n",
      "     B6             JetBlue Airways            3 EWR, JFK, LGA                42                                                                                                ABQ, ACK, AUS, BOS, BQN, BTV, BUF, BUR, CHS, CLT, DEN, FLL, HOU, IAD, JAX, LAS, LAX, LGB, MCO, MSY, MVY, OAK, ORD, PBI, PDX, PHX, PIT, PSE, PWM, RDU, ROC, RSW, SAN, SEA, SFO, SJC, SJU, SLC, SMF, SRQ, SYR, TPA\n",
      "     DL        Delta Air Lines Inc.            3 EWR, JFK, LGA                40                                                                                                          ATL, AUS, BNA, BOS, BUF, CVG, DCA, DEN, DTW, EYW, FLL, IND, JAC, JAX, LAS, LAX, MCI, MCO, MEM, MIA, MSP, MSY, OMA, PBI, PDX, PHL, PHX, PIT, PWM, RSW, SAN, SAT, SEA, SFO, SJU, SLC, SRQ, STL, STT, TPA\n",
      "     EV    ExpressJet Airlines Inc.            3 EWR, JFK, LGA                61 ALB, ATL, AVL, BDL, BGR, BHM, BNA, BOS, BTV, BUF, BWI, CAE, CHO, CHS, CLE, CLT, CMH, CVG, DAY, DCA, DFW, DSM, DTW, GRR, GSO, GSP, IAD, ILM, IND, JAX, MCI, MEM, MHT, MKE, MSN, MSP, MSY, MYR, OKC, OMA, ORD, ORF, PBI, PHL, PIT, PVD, PWM, RDU, RIC, ROC, SAV, SBN, SDF, SRQ, STL, SYR, TPA, TUL, TVC, TYS, XNA\n",
      "     F9      Frontier Airlines Inc.            1           LGA                 1                                                                                                                                                                                                                                                                                                             DEN\n",
      "     FL AirTran Airways Corporation            1           LGA                 3                                                                                                                                                                                                                                                                                                   ATL, CAK, MKE\n",
      "     HA      Hawaiian Airlines Inc.            1           JFK                 1                                                                                                                                                                                                                                                                                                             HNL\n",
      "     MQ                   Envoy Air            3 EWR, JFK, LGA                20                                                                                                                                                                                                              ATL, BNA, BWI, CLE, CLT, CMH, CRW, CVG, DCA, DTW, IND, MSP, ORD, ORF, PIT, RDU, STL, TPA, TVC, XNA\n",
      "     OO       SkyWest Airlines Inc.            2      EWR, LGA                 4                                                                                                                                                                                                                                                                                              DTW, IAD, MSP, ORD\n",
      "     UA       United Air Lines Inc.            3 EWR, JFK, LGA                45                                                                                 ATL, AUS, BDL, BOS, BQN, BZN, CHS, CLE, CLT, DCA, DEN, DFW, DTW, EGE, FLL, HDN, HNL, IAH, IND, JAC, LAS, LAX, MCO, MIA, MSP, MSY, MTJ, OMA, ORD, PBI, PDX, PHX, PIT, RDU, RSW, SAN, SAT, SDF, SEA, SFO, SJU, SNA, STL, STT, TPA\n",
      "     US             US Airways Inc.            3 EWR, JFK, LGA                 5                                                                                                                                                                                                                                                                                         BOS, CLT, DCA, PHL, PHX\n",
      "     VX              Virgin America            2      EWR, JFK                 5                                                                                                                                                                                                                                                                                         LAS, LAX, PSP, SFO, SJC\n",
      "     WN      Southwest Airlines Co.            2      EWR, LGA                11                                                                                                                                                                                                                                                           ATL, AUS, BNA, BWI, DEN, HOU, MDW, MKE, MSY, PHX, STL\n",
      "     YV          Mesa Airlines Inc.            1           LGA                 3                                                                                                                                                                                                                                                                                                   CLT, IAD, PHL\n"
     ]
    }
   ],
   "source": [
    "# ============= Tableau complet origines/destinations par compagnie =============\n",
    "carrier_coverage = flights_df.groupby('carrier').agg({\n",
    "    'origin': lambda x: ', '.join(sorted(x.unique())),\n",
    "    'dest': lambda x: ', '.join(sorted(x.unique()))\n",
    "}).reset_index()\n",
    "\n",
    "carrier_coverage = carrier_coverage.merge(airlines_df[['carrier', 'name']], on='carrier')\n",
    "carrier_coverage['num_origins'] = flights_df.groupby('carrier')['origin'].nunique().values\n",
    "carrier_coverage['num_destinations'] = flights_df.groupby('carrier')['dest'].nunique().values\n",
    "\n",
    "carrier_coverage = carrier_coverage[['carrier', 'name', 'num_origins', 'origin', 'num_destinations', 'dest']]\n",
    "\n",
    "print(\"\\n TABLEAU COMPLET ORIGINES ET DESTINATIONS PAR COMPAGNIE :\")\n",
    "print(carrier_coverage.to_string(index=False))"
   ]
  },
  {
   "cell_type": "markdown",
   "id": "db89e15c",
   "metadata": {},
   "source": [
    "# Question 7"
   ]
  },
  {
   "cell_type": "markdown",
   "id": "2897aca6",
   "metadata": {},
   "source": [
    "Quelles sont les destinations qui sont exclusives à certaines compagnies ? "
   ]
  },
  {
   "cell_type": "code",
   "execution_count": null,
   "id": "c23de16e",
   "metadata": {},
   "outputs": [
    {
     "name": "stdout",
     "output_type": "stream",
     "text": [
      " Nombre de destinations exclusives : 29\n",
      "\n",
      " DESTINATIONS EXCLUSIVES À UNE SEULE COMPAGNIE :\n",
      "dest                         dest_name carrier                carrier_name  num_flights\n",
      " MDW               Chicago Midway Intl      WN      Southwest Airlines Co.         3096\n",
      " GSO                    Piedmont Triad      EV    ExpressJet Airlines Inc.         1199\n",
      " CAK     Akron Canton Regional Airport      FL AirTran Airways Corporation          622\n",
      " SNA         John Wayne Arpt Orange Co      UA       United Air Lines Inc.          600\n",
      " SAV         Savannah Hilton Head Intl      EV    ExpressJet Airlines Inc.          598\n",
      " LGB                        Long Beach      B6             JetBlue Airways          498\n",
      " MSN            Dane Co Rgnl Truax Fld      EV    ExpressJet Airlines Inc.          441\n",
      " ALB                       Albany Intl      EV    ExpressJet Airlines Inc.          386\n",
      " PVD      Theodore Francis Green State      EV    ExpressJet Airlines Inc.          331\n",
      " BUR                          Bob Hope      B6             JetBlue Airways          281\n",
      " PSE                           Inconnu      B6             JetBlue Airways          275\n",
      " OKC                 Will Rogers World      EV    ExpressJet Airlines Inc.          258\n",
      " TUL                        Tulsa Intl      EV    ExpressJet Airlines Inc.          239\n",
      " OAK         Metropolitan Oakland Intl      B6             JetBlue Airways          222\n",
      " BHM                   Birmingham Intl      EV    ExpressJet Airlines Inc.          215\n",
      " SMF                   Sacramento Intl      B6             JetBlue Airways          201\n",
      " ABQ Albuquerque International Sunport      B6             JetBlue Airways          164\n",
      " CRW                            Yeager      MQ                   Envoy Air          138\n",
      " ACK                     Nantucket Mem      B6             JetBlue Airways           92\n",
      " ILM                   Wilmington Intl      EV    ExpressJet Airlines Inc.           89\n",
      " MYR                 Myrtle Beach Intl      EV    ExpressJet Airlines Inc.           58\n",
      " CHO         Charlottesville-Albemarle      EV    ExpressJet Airlines Inc.           31\n",
      " BZN                    Gallatin Field      UA       United Air Lines Inc.           20\n",
      " PSP                 Palm Springs Intl      VX              Virgin America           19\n",
      " EYW                     Key West Intl      DL        Delta Air Lines Inc.           17\n",
      " HDN                      Yampa Valley      UA       United Air Lines Inc.           15\n",
      " MTJ         Montrose Regional Airport      UA       United Air Lines Inc.           15\n",
      " SBN                   South Bend Rgnl      EV    ExpressJet Airlines Inc.            4\n",
      " LEX                        Blue Grass      9E           Endeavor Air Inc.            1\n"
     ]
    }
   ],
   "source": [
    "# Trouver les destinations desservies par une seule compagnie\n",
    "carriers_per_dest = flights_df.groupby('dest')['carrier'].nunique()\n",
    "exclusive_dest = carriers_per_dest[carriers_per_dest == 1].index\n",
    "\n",
    "print(f\" Nombre de destinations exclusives : {len(exclusive_dest)}\")\n",
    "\n",
    "# Pour chaque destination exclusive, trouver QUELLE compagnie\n",
    "exclusive_details = []\n",
    "\n",
    "for dest in exclusive_dest:\n",
    "    # Trouver la compagnie unique pour cette destination\n",
    "    carrier = flights_df[flights_df['dest'] == dest]['carrier'].iloc[0]\n",
    "    \n",
    "    # Récupérer les noms complets\n",
    "    dest_name = airports_df[airports_df['faa'] == dest]['name'].values\n",
    "    dest_name = dest_name[0] if len(dest_name) > 0 else \"Inconnu\"\n",
    "    \n",
    "    carrier_name = airlines_df[airlines_df['carrier'] == carrier]['name'].values\n",
    "    carrier_name = carrier_name[0] if len(carrier_name) > 0 else \"Inconnu\"\n",
    "    \n",
    "    # Compter le nombre de vols\n",
    "    num_flights = len(flights_df[(flights_df['dest'] == dest) & (flights_df['carrier'] == carrier)])\n",
    "    \n",
    "    exclusive_details.append({\n",
    "        'dest': dest,\n",
    "        'dest_name': dest_name,\n",
    "        'carrier': carrier,\n",
    "        'carrier_name': carrier_name,\n",
    "        'num_flights': num_flights\n",
    "    })\n",
    "\n",
    "# Création d'une DataFrame pour un affichage propre\n",
    "exclusive_df = pd.DataFrame(exclusive_details)\n",
    "exclusive_df = exclusive_df.sort_values('num_flights', ascending=False)\n",
    "\n",
    "print(\"\\n DESTINATIONS EXCLUSIVES À UNE SEULE COMPAGNIE :\")\n",
    "print(exclusive_df.to_string(index=False))\n",
    "\n"
   ]
  },
  {
   "cell_type": "code",
   "execution_count": 129,
   "id": "896ccad5",
   "metadata": {},
   "outputs": [
    {
     "name": "stdout",
     "output_type": "stream",
     "text": [
      "\n",
      " DESTINATIONS EXCLUSIVES À UNE SEULE COMPAGNIE :\n",
      "   MDW (Chicago Midway Intl)\n",
      "      → Exclusif à : WN - Southwest Airlines Co.\n",
      "      → numéro de vols: 3096\n",
      "   GSO (Piedmont Triad)\n",
      "      → Exclusif à : EV - ExpressJet Airlines Inc.\n",
      "      → numéro de vols: 1199\n",
      "   CAK (Akron Canton Regional Airport)\n",
      "      → Exclusif à : FL - AirTran Airways Corporation\n",
      "      → numéro de vols: 622\n",
      "   SNA (John Wayne Arpt Orange Co)\n",
      "      → Exclusif à : UA - United Air Lines Inc.\n",
      "      → numéro de vols: 600\n",
      "   SAV (Savannah Hilton Head Intl)\n",
      "      → Exclusif à : EV - ExpressJet Airlines Inc.\n",
      "      → numéro de vols: 598\n",
      "   LGB (Long Beach)\n",
      "      → Exclusif à : B6 - JetBlue Airways\n",
      "      → numéro de vols: 498\n",
      "   MSN (Dane Co Rgnl Truax Fld)\n",
      "      → Exclusif à : EV - ExpressJet Airlines Inc.\n",
      "      → numéro de vols: 441\n",
      "   ALB (Albany Intl)\n",
      "      → Exclusif à : EV - ExpressJet Airlines Inc.\n",
      "      → numéro de vols: 386\n",
      "   PVD (Theodore Francis Green State)\n",
      "      → Exclusif à : EV - ExpressJet Airlines Inc.\n",
      "      → numéro de vols: 331\n",
      "   BUR (Bob Hope)\n",
      "      → Exclusif à : B6 - JetBlue Airways\n",
      "      → numéro de vols: 281\n",
      "   PSE (Inconnu)\n",
      "      → Exclusif à : B6 - JetBlue Airways\n",
      "      → numéro de vols: 275\n",
      "   OKC (Will Rogers World)\n",
      "      → Exclusif à : EV - ExpressJet Airlines Inc.\n",
      "      → numéro de vols: 258\n",
      "   TUL (Tulsa Intl)\n",
      "      → Exclusif à : EV - ExpressJet Airlines Inc.\n",
      "      → numéro de vols: 239\n",
      "   OAK (Metropolitan Oakland Intl)\n",
      "      → Exclusif à : B6 - JetBlue Airways\n",
      "      → numéro de vols: 222\n",
      "   BHM (Birmingham Intl)\n",
      "      → Exclusif à : EV - ExpressJet Airlines Inc.\n",
      "      → numéro de vols: 215\n",
      "   SMF (Sacramento Intl)\n",
      "      → Exclusif à : B6 - JetBlue Airways\n",
      "      → numéro de vols: 201\n",
      "   ABQ (Albuquerque International Sunport)\n",
      "      → Exclusif à : B6 - JetBlue Airways\n",
      "      → numéro de vols: 164\n",
      "   CRW (Yeager)\n",
      "      → Exclusif à : MQ - Envoy Air\n",
      "      → numéro de vols: 138\n",
      "   ACK (Nantucket Mem)\n",
      "      → Exclusif à : B6 - JetBlue Airways\n",
      "      → numéro de vols: 92\n",
      "   ILM (Wilmington Intl)\n",
      "      → Exclusif à : EV - ExpressJet Airlines Inc.\n",
      "      → numéro de vols: 89\n",
      "   MYR (Myrtle Beach Intl)\n",
      "      → Exclusif à : EV - ExpressJet Airlines Inc.\n",
      "      → numéro de vols: 58\n",
      "   CHO (Charlottesville-Albemarle)\n",
      "      → Exclusif à : EV - ExpressJet Airlines Inc.\n",
      "      → numéro de vols: 31\n",
      "   BZN (Gallatin Field)\n",
      "      → Exclusif à : UA - United Air Lines Inc.\n",
      "      → numéro de vols: 20\n",
      "   PSP (Palm Springs Intl)\n",
      "      → Exclusif à : VX - Virgin America\n",
      "      → numéro de vols: 19\n",
      "   EYW (Key West Intl)\n",
      "      → Exclusif à : DL - Delta Air Lines Inc.\n",
      "      → numéro de vols: 17\n",
      "   HDN (Yampa Valley)\n",
      "      → Exclusif à : UA - United Air Lines Inc.\n",
      "      → numéro de vols: 15\n",
      "   MTJ (Montrose Regional Airport)\n",
      "      → Exclusif à : UA - United Air Lines Inc.\n",
      "      → numéro de vols: 15\n",
      "   SBN (South Bend Rgnl)\n",
      "      → Exclusif à : EV - ExpressJet Airlines Inc.\n",
      "      → numéro de vols: 4\n",
      "   LEX (Blue Grass)\n",
      "      → Exclusif à : 9E - Endeavor Air Inc.\n",
      "      → numéro de vols: 1\n"
     ]
    }
   ],
   "source": [
    "# Version plus lisible\n",
    "print(\"\\n DESTINATIONS EXCLUSIVES À UNE SEULE COMPAGNIE :\")\n",
    "for _, row in exclusive_df.iterrows():\n",
    "    print(f\"   {row['dest']} ({row['dest_name']})\")\n",
    "    print(f\"      → Exclusif à : {row['carrier']} - {row['carrier_name']}\")\n",
    "    print(f\"      → numéro de vols: {row['num_flights']}\")"
   ]
  },
  {
   "cell_type": "markdown",
   "id": "b9d33167",
   "metadata": {},
   "source": [
    "# Question 8"
   ]
  },
  {
   "cell_type": "markdown",
   "id": "36c70910",
   "metadata": {},
   "source": [
    "Filtrer le vol pour trouver ceux exploités par United, American ou Delta ?"
   ]
  },
  {
   "cell_type": "code",
   "execution_count": 130,
   "id": "dc24e594",
   "metadata": {},
   "outputs": [
    {
     "name": "stdout",
     "output_type": "stream",
     "text": [
      "\n",
      " VOLS DES COMPAGNIES US (UA, AA, DL) : 104,742 vols\n"
     ]
    }
   ],
   "source": [
    "us_carriers = ['UA','AA','DL']\n",
    "us_flights = flights_df[flights_df['carrier'].isin(us_carriers)]\n",
    "print(f\"\\n VOLS DES COMPAGNIES US (UA, AA, DL) : {len(us_flights):,} vols\")"
   ]
  }
 ],
 "metadata": {
  "kernelspec": {
   "display_name": "base",
   "language": "python",
   "name": "python3"
  },
  "language_info": {
   "codemirror_mode": {
    "name": "ipython",
    "version": 3
   },
   "file_extension": ".py",
   "mimetype": "text/x-python",
   "name": "python",
   "nbconvert_exporter": "python",
   "pygments_lexer": "ipython3",
   "version": "3.13.5"
  }
 },
 "nbformat": 4,
 "nbformat_minor": 5
}
